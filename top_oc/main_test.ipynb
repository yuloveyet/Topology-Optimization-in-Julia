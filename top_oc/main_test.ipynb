{
 "cells": [
  {
   "cell_type": "code",
   "execution_count": null,
   "metadata": {},
   "outputs": [],
   "source": [
    "module test\n",
    "export main\n",
    "include(\"/Users/yu/TopCodes/Julia/test/top99neo.jl\")\n",
    "# include(joinpath(@__DIR__, \"top99neo.jl\"))\n",
    "using .TopOpt99neo\n",
    "function main()\n",
    "    setup = SetUp()\n",
    "    mat = Mat()\n",
    "    disfeature = DiscretizationFeature(setup, mat)\n",
    "    load = LoadsSupportsBCs(setup, disfeature)\n",
    "    ini = Initialization(setup, disfeature, mat)\n",
    "    filter = Filter(setup)\n",
    "    xPhys, opt_hist, vf_hist, anim = Optimization(setup, mat, load, filter, ini, disfeature)\n",
    "    return xPhys, opt_hist, vf_hist, anim\n",
    "end\n",
    "\n",
    "end"
   ]
  },
  {
   "cell_type": "code",
   "execution_count": null,
   "metadata": {},
   "outputs": [],
   "source": [
    "using .test\n",
    "\n",
    "main()\n"
   ]
  },
  {
   "cell_type": "code",
   "execution_count": null,
   "metadata": {},
   "outputs": [],
   "source": [
    "using Plots\n",
    "gif(anim, \"./top/top_hist.gif\", fps=8)"
   ]
  }
 ],
 "metadata": {
  "kernelspec": {
   "display_name": "Julia 1.7.0",
   "language": "julia",
   "name": "julia-1.7"
  },
  "language_info": {
   "file_extension": ".jl",
   "mimetype": "application/julia",
   "name": "julia",
   "version": "1.7.0"
  },
  "orig_nbformat": 4
 },
 "nbformat": 4,
 "nbformat_minor": 2
}
